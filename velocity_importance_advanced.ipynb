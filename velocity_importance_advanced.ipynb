{
 "cells": [
  {
   "cell_type": "markdown",
   "metadata": {},
   "source": [
    "# Advanced Velocity Feature Importance Analysis\n",
    "\n",
    "This notebook extends the velocity-based feature importance analysis with:\n",
    "- 3D visualizations of feature importance across time and flow stages\n",
    "- Patient-specific importance patterns\n",
    "- Attention weight analysis for transformer-based models\n",
    "- Uncertainty-aware feature importance\n",
    "- Interactive visualizations using Plotly"
   ]
  },
  {
   "cell_type": "code",
   "execution_count": 1,
   "metadata": {},
   "outputs": [
    {
     "name": "stdout",
     "output_type": "stream",
     "text": [
      "Using device: cuda\n",
      "PyTorch version: 2.7.0+cu128\n"
     ]
    }
   ],
   "source": [
    "import numpy as np\n",
    "import pandas as pd\n",
    "import matplotlib.pyplot as plt\n",
    "import seaborn as sns\n",
    "import torch\n",
    "import torch.nn.functional as F\n",
    "from torch.utils.data import DataLoader\n",
    "import plotly.graph_objects as go\n",
    "import plotly.express as px\n",
    "from plotly.subplots import make_subplots\n",
    "from scipy import stats\n",
    "from sklearn.decomposition import PCA\n",
    "from sklearn.manifold import TSNE\n",
    "import warnings\n",
    "warnings.filterwarnings('ignore')\n",
    "\n",
    "# Set style\n",
    "plt.style.use('seaborn-v0_8-darkgrid')\n",
    "sns.set_palette(\"viridis\")\n",
    "\n",
    "# Device setup\n",
    "device = torch.device('cuda' if torch.cuda.is_available() else 'cpu')\n",
    "print(f\"Using device: {device}\")\n",
    "print(f\"PyTorch version: {torch.__version__}\")"
   ]
  },
  {
   "cell_type": "code",
   "execution_count": 2,
   "metadata": {},
   "outputs": [],
   "source": [
    "# Import project modules\n",
    "import sys\n",
    "sys.path.append('/home/yl2428/Time-LLM')\n",
    "\n",
    "from data_provider_pretrain.data_factory import data_provider\n",
    "from models.time_series_flow_matching_model import TimeSeriesFlowMatchingModel\n",
    "from models.model9_NS_transformer.ns_models.ns_Transformer import Model as NSTransformer\n",
    "import argparse\n",
    "from tqdm import tqdm"
   ]
  },
  {
   "cell_type": "code",
   "execution_count": 3,
   "metadata": {},
   "outputs": [
    {
     "name": "stdout",
     "output_type": "stream",
     "text": [
      "Configuration loaded: ns_Transformer with d_model=32, batch_size=512\n",
      "Diffusion config path: /home/yl2428/Time-LLM/models/model9_NS_transformer/configs/toy_8gauss.yml\n"
     ]
    }
   ],
   "source": [
    "# Configuration and utility functions from feature_importance_analysis.ipynb\n",
    "class DotDict(dict):\n",
    "    \"\"\"A dictionary that supports both dot notation and dictionary access.\"\"\"\n",
    "    def __init__(self, *args, **kwargs):\n",
    "        super().__init__(*args, **kwargs)\n",
    "        self.__dict__ = self\n",
    "\n",
    "    def __getattr__(self, attr):\n",
    "        return self.get(attr)\n",
    "\n",
    "    def __setattr__(self, key, value):\n",
    "        self.__dict__[key] = value\n",
    "\n",
    "    def __delattr__(self, item):\n",
    "        self.__dict__.pop(item, None)\n",
    "\n",
    "# Flow matching configuration (exact from feature_importance_analysis.ipynb)\n",
    "flow_matching_config = DotDict({\n",
    "    \"num_nodes\": 1,\n",
    "    \"task_name\": \"long_term_forecast\",\n",
    "    \"is_training\": 1,\n",
    "    \"model_id\": \"ETTh1_ETTh2_512_192\",\n",
    "    \"model\": \"ns_Transformer\",\n",
    "    \"precision\": \"32\",\n",
    "    \"generative_model\": \"flow_matching\",\n",
    "    \"data_pretrain\": \"Glucose\",\n",
    "    \"root_path\": \"/home/yl2428/Time-LLM/dataset/glucose\",\n",
    "    \"data_path\": \"output_Junt_16_3.csv\",\n",
    "    \"data_path_pretrain\": \"output_Junt_16_3.csv\",\n",
    "    \"features\": \"MS\",\n",
    "    \"target\": \"OT\",\n",
    "    \"freq\": \"t\",\n",
    "    \"checkpoints\": \"/home/yl2428/checkpoints\",\n",
    "    \"log_dir\": \"/home/yl2428/logs\",\n",
    "    \"seq_len\": 72,\n",
    "    \"label_len\": 32,\n",
    "    \"pred_len\": 48,\n",
    "    \"seasonal_patterns\": \"Monthly\",\n",
    "    \"stride\": 1,\n",
    "    \"enc_in\": 9,\n",
    "    \"dec_in\": 9,\n",
    "    \"c_out\": 9,\n",
    "    \"d_model\": 32,\n",
    "    \"n_heads\": 8,\n",
    "    \"e_layers\": 2,\n",
    "    \"d_layers\": 1,\n",
    "    \"d_ff\": 256,\n",
    "    \"moving_avg\": 25,\n",
    "    \"factor\": 3,\n",
    "    \"dropout\": 0.1,\n",
    "    \"embed\": \"timeF\",\n",
    "    \"activation\": \"gelu\",\n",
    "    \"output_attention\": False,\n",
    "    \"patch_len\": 16,\n",
    "    \"prompt_domain\": 0,\n",
    "    \"llm_model\": \"LLAMA\",\n",
    "    \"llm_dim\": 4096,\n",
    "    \"vae_hidden_dim\": 16,\n",
    "    \"num_workers\": 10,\n",
    "    \"itr\": 1,\n",
    "    \"train_epochs\": 100,\n",
    "    \"align_epochs\": 10,\n",
    "    \"ema_decay\": 0.995,\n",
    "    \"batch_size\": 512,\n",
    "    \"eval_batch_size\": 512,\n",
    "    \"patience\": 40,\n",
    "    \"learning_rate\": 0.0001,\n",
    "    \"des\": \"Exp\",\n",
    "    \"loss\": \"MSE\",\n",
    "    \"lradj\": \"COS\",\n",
    "    \"pct_start\": 0.2,\n",
    "    \"use_amp\": False,\n",
    "    \"llm_layers\": 32,\n",
    "    \"percent\": 100,\n",
    "    \"num_individuals\": -1,\n",
    "    \"enable_covariates\": 1,\n",
    "    \"cov_type\": \"tensor\",\n",
    "    \"gradient_accumulation_steps\": 1,\n",
    "    \"use_deep_speed\": 1,\n",
    "    \"wandb\": 1,\n",
    "    \"wandb_group\": None,\n",
    "    \"use_moe\": 1,\n",
    "    \"num_experts\": 8,\n",
    "    \"latent_len\": 36,\n",
    "    \"top_k_experts\": 4,\n",
    "    \"moe_layer_indices\": [0, 1],\n",
    "    \"moe_loss_weight\": 0.01,\n",
    "    \"log_routing_stats\": 1,\n",
    "    \"num_universal_experts\": 1,\n",
    "    \"universal_expert_weight\": 0.3,\n",
    "    \"head_dropout\": 0.1,\n",
    "    \"channel_independence\": 0,\n",
    "    \"decomp_method\": \"moving_avg\",\n",
    "    \"use_norm\": 1,\n",
    "    \"down_sampling_layers\": 2,\n",
    "    \"down_sampling_window\": 1,\n",
    "    \"down_sampling_method\": \"avg\",\n",
    "    \"use_future_temporal_feature\": 0,\n",
    "    \"k_z\": 1e-2,\n",
    "    \"k_cond\": 0.001,\n",
    "    \"d_z\": 8,\n",
    "    \"p_hidden_dims\": [64, 64],\n",
    "    \"p_hidden_layers\": 2,\n",
    "    \"diffusion_config_dir\": \"/home/yl2428/Time-LLM/models/model9_NS_transformer/configs/toy_8gauss.yml\",  # Added missing config\n",
    "    \"cond_pred_model_pertrain_dir\": None,\n",
    "    \"CART_input_x_embed_dim\": 32,\n",
    "    \"mse_timestep\": 0,\n",
    "    \"MLP_diffusion_net\": False,\n",
    "    \"timesteps\": 50,\n",
    "    \"ode_solver\": \"dopri5\",\n",
    "    \"ode_rtol\": 1e-5,\n",
    "    \"ode_atol\": 1e-5,\n",
    "    \"interpolation_type\": \"linear\",\n",
    "    \"expert_layers\": 2,\n",
    "    \"loader\": \"modal\",\n",
    "    \"model_comment\": \"none\",\n",
    "    \"enable_context_aware\": 1,\n",
    "    \"glucose_dropout_rate\": 0.4,\n",
    "    \"use_contrastive_learning\": 1,\n",
    "    \"contrastive_loss_weight\": 0.1,\n",
    "    \"contrastive_temperature\": 0.1,\n",
    "    \"use_momentum_encoder\": 1,\n",
    "    \"momentum_factor\": 0.999,\n",
    "    \"n_flow_stages\": 5,  # For velocity analysis\n",
    "    \"col_stats\": {'SEX': {'COUNT': (['F', 'M'], [367, 135])}, 'RACE': {'COUNT': (['WHITE', 'NOT REPORTED', 'ASIAN', 'BLACK/AFRICAN AMERICAN', 'MULTIPLE', 'UNKNOWN', 'AMERICAN INDIAN/ALASKAN NATIVE'], [459, 11, 10, 10, 8, 2, 2])}, 'ETHNIC': {'COUNT': (['Not Hispanic or Latino', 'Hispanic or Latino', 'Do not wish to answer', \"Don't know\"], [472, 15, 13, 2])}, 'ARMCD': {'COUNT': (['RESISTANCE', 'INTERVAL', 'AEROBIC'], [172, 167, 163])}, 'insulin modality': {'COUNT': (['CLOSED LOOP INSULIN PUMP', 'INSULIN PUMP', 'MULTIPLE DAILY INJECTIONS'], [225, 189, 88])}, 'AGE': {'MEAN': 36.655378486055774, 'STD': 13.941209833786187, 'QUANTILES': [18.0, 25.0, 33.0, 45.75, 70.0]}, 'WEIGHT': {'MEAN': 161.39940239043824, 'STD': 30.624877585598654, 'QUANTILES': [103.0, 140.0, 155.0, 179.0, 280.0]}, 'HEIGHT': {'MEAN': 66.72509960159363, 'STD': 3.505847063905933, 'QUANTILES': [58.0, 64.0, 66.0, 69.0, 77.0]}, 'HbA1c': {'MEAN': 6.642828685258964, 'STD': 0.7633658734231158, 'QUANTILES': [4.8, 6.1, 6.6, 7.1, 10.0]}, 'DIABETES_ONSET': {'MEAN': 18.72725737051793, 'STD': 11.889102915798386, 'QUANTILES': [0.0833, 11.0, 16.0, 24.0, 66.0]}},\n",
    "    \"col_names_dict\": {'categorical': ['ARMCD', 'ETHNIC', 'RACE', 'SEX', 'insulin modality'], 'numerical': ['AGE', 'DIABETES_ONSET', 'HEIGHT', 'HbA1c', 'WEIGHT']}\n",
    "})\n",
    "\n",
    "# Use the config as args\n",
    "args = flow_matching_config\n",
    "print(f\"Configuration loaded: {args.model} with d_model={args.d_model}, batch_size={args.batch_size}\")\n",
    "print(f\"Diffusion config path: {args.diffusion_config_dir}\")"
   ]
  },
  {
   "cell_type": "code",
   "execution_count": 4,
   "metadata": {},
   "outputs": [
    {
     "name": "stdout",
     "output_type": "stream",
     "text": [
      "Checkpoint loading functions defined!\n"
     ]
    }
   ],
   "source": [
    "# Checkpoint loading functions (exact from feature_importance_analysis.ipynb)\n",
    "import os\n",
    "import glob\n",
    "import re\n",
    "\n",
    "def find_best_checkpoint(base_path=\"/home/yl2428/logs/ns_Transformer/flow_matching/comfy-dust-243\", metric=\"val_loss\"):\n",
    "    \"\"\"Find the best checkpoint based on validation loss.\"\"\"\n",
    "    print(f\"Searching for checkpoints in: {base_path}\")\n",
    "    \n",
    "    checkpoint_pattern = os.path.join(base_path, \"checkpoints/epoch=*-step=*-val_loss=*.ckpt/checkpoint\")\n",
    "    print(checkpoint_pattern)\n",
    "    checkpoint_dirs = glob.glob(checkpoint_pattern)\n",
    "    \n",
    "    if not checkpoint_dirs:\n",
    "        print(\"No checkpoints found!\")\n",
    "        return None, None, None\n",
    "    \n",
    "    best_checkpoint = None\n",
    "    best_metric = float('inf')\n",
    "    best_run = None\n",
    "    \n",
    "    print(f\"Found {len(checkpoint_dirs)} checkpoints:\")\n",
    "    \n",
    "    for checkpoint_dir in checkpoint_dirs:\n",
    "        pattern = r'epoch=(\\d+)-step=(\\d+)-val_loss=([\\d.]+)\\.ckpt'\n",
    "        match = re.search(pattern, checkpoint_dir)\n",
    "        \n",
    "        if match:\n",
    "            epoch, step, val_loss = match.groups()\n",
    "            val_loss = float(val_loss)\n",
    "            run_name = checkpoint_dir.split('/')[-4]\n",
    "            \n",
    "            print(f\"  - {run_name}: epoch={epoch}, step={step}, val_loss={val_loss:.4f}\")\n",
    "            \n",
    "            if val_loss < best_metric:\n",
    "                best_metric = val_loss\n",
    "                best_checkpoint = checkpoint_dir\n",
    "                best_run = run_name\n",
    "    \n",
    "    if best_checkpoint:\n",
    "        print(f\"\\nBest checkpoint: {best_run}\")\n",
    "        print(f\"  - Path: {best_checkpoint}\")\n",
    "        print(f\"  - Val Loss: {best_metric:.4f}\")\n",
    "    \n",
    "    return best_checkpoint, best_metric, best_run\n",
    "\n",
    "\n",
    "def load_deepspeed_checkpoint(model, checkpoint_path):\n",
    "    \"\"\"Load DeepSpeed checkpoint into the model.\"\"\"\n",
    "    print(f\"Loading DeepSpeed checkpoint from: {checkpoint_path}\")\n",
    "    \n",
    "    model_states_path = os.path.join(checkpoint_path, \"mp_rank_00_model_states.pt\")\n",
    "    \n",
    "    if not os.path.exists(model_states_path):\n",
    "        raise FileNotFoundError(f\"Model states file not found: {model_states_path}\")\n",
    "    \n",
    "    device = torch.device('cuda' if torch.cuda.is_available() else 'cpu')\n",
    "    print(f\"Using device: {device}\")\n",
    "    \n",
    "    checkpoint = torch.load(model_states_path, map_location=device)\n",
    "    \n",
    "    if 'module' in checkpoint:\n",
    "        state_dict = checkpoint['module']\n",
    "    elif 'model_state_dict' in checkpoint:\n",
    "        state_dict = checkpoint['model_state_dict']\n",
    "    else:\n",
    "        state_dict = checkpoint\n",
    "    \n",
    "    cleaned_state_dict = {}\n",
    "    for key, value in state_dict.items():\n",
    "        clean_key = key\n",
    "        if key.startswith('_forward_module.'):\n",
    "            clean_key = key.replace('_forward_module.', '')\n",
    "        elif key.startswith('module.'):\n",
    "            clean_key = key.replace('module.', '')\n",
    "        \n",
    "        if isinstance(value, torch.Tensor):\n",
    "            value = value.to(device)\n",
    "        \n",
    "        cleaned_state_dict[clean_key] = value\n",
    "    \n",
    "    try:\n",
    "        model = model.to(device)\n",
    "        missing_keys, unexpected_keys = model.load_state_dict(cleaned_state_dict, strict=False)\n",
    "        \n",
    "        if missing_keys:\n",
    "            print(f\"Missing keys: {missing_keys[:10]}{'...' if len(missing_keys) > 10 else ''}\")\n",
    "        if unexpected_keys:\n",
    "            print(f\"Unexpected keys: {unexpected_keys[:10]}{'...' if len(unexpected_keys) > 10 else ''}\")\n",
    "            \n",
    "        print(\"✓ Model weights loaded successfully!\")\n",
    "        \n",
    "    except Exception as e:\n",
    "        print(f\"Warning: Some keys couldn't be loaded: {e}\")\n",
    "        model_dict = model.state_dict()\n",
    "        pretrained_dict = {k: v for k, v in cleaned_state_dict.items() if k in model_dict}\n",
    "        model_dict.update(pretrained_dict)\n",
    "        \n",
    "        model = model.to(device)\n",
    "        model.load_state_dict(model_dict)\n",
    "        print(f\"✓ Loaded {len(pretrained_dict)}/{len(cleaned_state_dict)} parameters\")\n",
    "    \n",
    "    model = model.to(device)\n",
    "    print(f\"✓ All model components moved to {device}\")\n",
    "    \n",
    "    return model\n",
    "\n",
    "print(\"Checkpoint loading functions defined!\")"
   ]
  },
  {
   "cell_type": "code",
   "execution_count": 5,
   "metadata": {},
   "outputs": [
    {
     "name": "stdout",
     "output_type": "stream",
     "text": [
      "Loading flow matching model and data...\n",
      "Mean: [  0.84085476   0.80213351  79.40491332  32.5294183    0.24537674\n",
      "   5.3128258    3.82292609   5.69710292 144.81223086]\n",
      "Std: [ 1.61659338  0.60898286 19.36734307 86.98838521  0.43031035 14.4286974\n",
      " 11.59240125 11.53828031 55.07849221]\n",
      "Loading data into memory...\n"
     ]
    },
    {
     "name": "stderr",
     "output_type": "stream",
     "text": [
      "100%|██████████| 488/488 [00:44<00:00, 11.09it/s]\n"
     ]
    },
    {
     "name": "stdout",
     "output_type": "stream",
     "text": [
      "Mean: [  0.84085476   0.80213351  79.40491332  32.5294183    0.24537674\n",
      "   5.3128258    3.82292609   5.69710292 144.81223086]\n",
      "Std: [ 1.61659338  0.60898286 19.36734307 86.98838521  0.43031035 14.4286974\n",
      " 11.59240125 11.53828031 55.07849221]\n",
      "Loading data into memory...\n"
     ]
    },
    {
     "name": "stderr",
     "output_type": "stream",
     "text": [
      "100%|██████████| 488/488 [00:43<00:00, 11.16it/s]\n"
     ]
    },
    {
     "name": "stdout",
     "output_type": "stream",
     "text": [
      "Mean: [  0.84085476   0.80213351  79.40491332  32.5294183    0.24537674\n",
      "   5.3128258    3.82292609   5.69710292 144.81223086]\n",
      "Std: [ 1.61659338  0.60898286 19.36734307 86.98838521  0.43031035 14.4286974\n",
      " 11.59240125 11.53828031 55.07849221]\n",
      "Loading data into memory...\n"
     ]
    },
    {
     "name": "stderr",
     "output_type": "stream",
     "text": [
      "100%|██████████| 488/488 [00:44<00:00, 11.09it/s]\n"
     ]
    },
    {
     "name": "stdout",
     "output_type": "stream",
     "text": [
      "Searching for checkpoints in: /home/yl2428/logs/ns_Transformer/flow_matching/comfy-dust-243\n",
      "/home/yl2428/logs/ns_Transformer/flow_matching/comfy-dust-243/checkpoints/epoch=*-step=*-val_loss=*.ckpt/checkpoint\n",
      "Found 1 checkpoints:\n",
      "  - comfy-dust-243: epoch=9, step=111310, val_loss=1.0574\n",
      "\n",
      "Best checkpoint: comfy-dust-243\n",
      "  - Path: /home/yl2428/logs/ns_Transformer/flow_matching/comfy-dust-243/checkpoints/epoch=9-step=111310-val_loss=1.0574.ckpt/checkpoint\n",
      "  - Val Loss: 1.0574\n",
      "Loading DeepSpeed checkpoint from: /home/yl2428/logs/ns_Transformer/flow_matching/comfy-dust-243/checkpoints/epoch=9-step=111310-val_loss=1.0574.ckpt/checkpoint\n",
      "Using device: cuda\n",
      "✓ Model weights loaded successfully!\n",
      "✓ All model components moved to cuda\n",
      "✓ Model loaded from comfy-dust-243 with val_loss: 1.0574\n",
      "Model on device: cuda:0\n",
      "Model type: ns_Transformer\n",
      "Covariates enabled: 1\n",
      "Batch size: 512\n"
     ]
    },
    {
     "ename": "AttributeError",
     "evalue": "'TimeSeriesFlowMatchingModel' object has no attribute 'num_experts'",
     "output_type": "error",
     "traceback": [
      "\u001b[0;31m---------------------------------------------------------------------------\u001b[0m",
      "\u001b[0;31mAttributeError\u001b[0m                            Traceback (most recent call last)",
      "Cell \u001b[0;32mIn[5], line 38\u001b[0m\n\u001b[1;32m     36\u001b[0m \u001b[38;5;28mprint\u001b[39m(\u001b[38;5;124mf\u001b[39m\u001b[38;5;124m\"\u001b[39m\u001b[38;5;124mCovariates enabled: \u001b[39m\u001b[38;5;132;01m{\u001b[39;00mflow_args\u001b[38;5;241m.\u001b[39menable_covariates\u001b[38;5;132;01m}\u001b[39;00m\u001b[38;5;124m\"\u001b[39m)\n\u001b[1;32m     37\u001b[0m \u001b[38;5;28mprint\u001b[39m(\u001b[38;5;124mf\u001b[39m\u001b[38;5;124m\"\u001b[39m\u001b[38;5;124mBatch size: \u001b[39m\u001b[38;5;132;01m{\u001b[39;00mflow_args\u001b[38;5;241m.\u001b[39mbatch_size\u001b[38;5;132;01m}\u001b[39;00m\u001b[38;5;124m\"\u001b[39m)\n\u001b[0;32m---> 38\u001b[0m \u001b[38;5;28mprint\u001b[39m(\u001b[38;5;124mf\u001b[39m\u001b[38;5;124m\"\u001b[39m\u001b[38;5;124mNumber of experts: \u001b[39m\u001b[38;5;132;01m{\u001b[39;00mmodel\u001b[38;5;241m.\u001b[39mnum_experts\u001b[38;5;132;01m}\u001b[39;00m\u001b[38;5;124m\"\u001b[39m)\n\u001b[1;32m     39\u001b[0m \u001b[38;5;28mprint\u001b[39m(\u001b[38;5;124m\"\u001b[39m\u001b[38;5;124m✓ Data and model loaded successfully!\u001b[39m\u001b[38;5;124m\"\u001b[39m)\n",
      "File \u001b[0;32m~/miniconda/envs/cDIME/lib/python3.9/site-packages/torch/nn/modules/module.py:1940\u001b[0m, in \u001b[0;36mModule.__getattr__\u001b[0;34m(self, name)\u001b[0m\n\u001b[1;32m   1938\u001b[0m     \u001b[38;5;28;01mif\u001b[39;00m name \u001b[38;5;129;01min\u001b[39;00m modules:\n\u001b[1;32m   1939\u001b[0m         \u001b[38;5;28;01mreturn\u001b[39;00m modules[name]\n\u001b[0;32m-> 1940\u001b[0m \u001b[38;5;28;01mraise\u001b[39;00m \u001b[38;5;167;01mAttributeError\u001b[39;00m(\n\u001b[1;32m   1941\u001b[0m     \u001b[38;5;124mf\u001b[39m\u001b[38;5;124m\"\u001b[39m\u001b[38;5;124m'\u001b[39m\u001b[38;5;132;01m{\u001b[39;00m\u001b[38;5;28mtype\u001b[39m(\u001b[38;5;28mself\u001b[39m)\u001b[38;5;241m.\u001b[39m\u001b[38;5;18m__name__\u001b[39m\u001b[38;5;132;01m}\u001b[39;00m\u001b[38;5;124m'\u001b[39m\u001b[38;5;124m object has no attribute \u001b[39m\u001b[38;5;124m'\u001b[39m\u001b[38;5;132;01m{\u001b[39;00mname\u001b[38;5;132;01m}\u001b[39;00m\u001b[38;5;124m'\u001b[39m\u001b[38;5;124m\"\u001b[39m\n\u001b[1;32m   1942\u001b[0m )\n",
      "\u001b[0;31mAttributeError\u001b[0m: 'TimeSeriesFlowMatchingModel' object has no attribute 'num_experts'"
     ]
    }
   ],
   "source": [
    "# Load model and data (exact from feature_importance_analysis.ipynb)\n",
    "print(\"Loading flow matching model and data...\")\n",
    "\n",
    "# Load data\n",
    "flow_args = flow_matching_config\n",
    "train_data_fm, train_loader_fm, flow_args = data_provider(\n",
    "    flow_args, flow_args.data_pretrain, flow_args.data_path_pretrain, True, 'train'\n",
    ")\n",
    "vali_data_fm, vali_loader_fm, flow_args = data_provider(\n",
    "    flow_args, flow_args.data_pretrain, flow_args.data_path_pretrain, True, 'val'\n",
    ")\n",
    "test_data_fm, test_loader_fm, flow_args = data_provider(\n",
    "    flow_args, flow_args.data_pretrain, flow_args.data_path_pretrain, False, 'test'\n",
    ")\n",
    "\n",
    "# Initialize model\n",
    "flow_matching_model = TimeSeriesFlowMatchingModel(flow_args, train_loader_fm, vali_loader_fm, test_loader_fm)\n",
    "\n",
    "# Find and load best checkpoint\n",
    "checkpoint_path, best_metric, run_name = find_best_checkpoint()\n",
    "\n",
    "if checkpoint_path:\n",
    "    flow_matching_model = load_deepspeed_checkpoint(flow_matching_model, checkpoint_path)\n",
    "    flow_matching_model.eval()\n",
    "    print(f\"✓ Model loaded from {run_name} with val_loss: {best_metric:.4f}\")\n",
    "else:\n",
    "    print(\"No checkpoint found - using untrained model\")\n",
    "    flow_matching_model.eval()\n",
    "\n",
    "# Set model reference\n",
    "model = flow_matching_model\n",
    "test_loader = test_loader_fm\n",
    "\n",
    "print(f\"Model on device: {next(flow_matching_model.parameters()).device}\")\n",
    "print(f\"Model type: {flow_args.model}\")\n",
    "print(f\"Covariates enabled: {flow_args.enable_covariates}\")\n",
    "print(f\"Batch size: {flow_args.batch_size}\")\n",
    "print(f\"Number of experts: {model.num_experts}\")\n",
    "print(\"✓ Data and model loaded successfully!\")"
   ]
  },
  {
   "cell_type": "code",
   "execution_count": null,
   "metadata": {},
   "outputs": [],
   "source": [
    "# Fixed model configuration - access num_experts from args\n",
    "print(f\"Model on device: {next(flow_matching_model.parameters()).device}\")\n",
    "print(f\"Model type: {flow_args.model}\")\n",
    "print(f\"Covariates enabled: {flow_args.enable_covariates}\")\n",
    "print(f\"Batch size: {flow_args.batch_size}\")\n",
    "print(f\"Number of experts (from config): {flow_args.num_experts}\")\n",
    "print(\"✓ Data and model loaded successfully!\")"
   ]
  },
  {
   "cell_type": "markdown",
   "metadata": {},
   "source": [
    "## 3. 3D Visualization of Feature Importance Across Stages"
   ]
  },
  {
   "cell_type": "code",
   "execution_count": 7,
   "metadata": {},
   "outputs": [
    {
     "data": {
      "application/vnd.plotly.v1+json": {
       "config": {
        "plotlyServerURL": "https://plot.ly"
       },
       "data": [
        {
         "colorbar": {
          "title": {
           "text": "Feature Importance"
          }
         },
         "colorscale": [
          [
           0,
           "#440154"
          ],
          [
           0.1111111111111111,
           "#482878"
          ],
          [
           0.2222222222222222,
           "#3e4989"
          ],
          [
           0.3333333333333333,
           "#31688e"
          ],
          [
           0.4444444444444444,
           "#26828e"
          ],
          [
           0.5555555555555556,
           "#1f9e89"
          ],
          [
           0.6666666666666666,
           "#35b779"
          ],
          [
           0.7777777777777778,
           "#6ece58"
          ],
          [
           0.8888888888888888,
           "#b5de2b"
          ],
          [
           1,
           "#fde725"
          ]
         ],
         "showscale": true,
         "type": "surface",
         "x": {
          "bdata": "AAECAwQFBgcICQoLDA0ODxAREhMUFRYXGBkaGxwdHh8gISIjJCUmJygpKissLS4vMDEyMzQ1Njc4OTo7PD0+P0BBQkNERUZHAAECAwQFBgcICQoLDA0ODxAREhMUFRYXGBkaGxwdHh8gISIjJCUmJygpKissLS4vMDEyMzQ1Njc4OTo7PD0+P0BBQkNERUZHAAECAwQFBgcICQoLDA0ODxAREhMUFRYXGBkaGxwdHh8gISIjJCUmJygpKissLS4vMDEyMzQ1Njc4OTo7PD0+P0BBQkNERUZHAAECAwQFBgcICQoLDA0ODxAREhMUFRYXGBkaGxwdHh8gISIjJCUmJygpKissLS4vMDEyMzQ1Njc4OTo7PD0+P0BBQkNERUZHAAECAwQFBgcICQoLDA0ODxAREhMUFRYXGBkaGxwdHh8gISIjJCUmJygpKissLS4vMDEyMzQ1Njc4OTo7PD0+P0BBQkNERUZH",
          "dtype": "i1",
          "shape": "5, 72"
         },
         "y": {
          "bdata": "AAAAAAAAAAAAAAAAAAAAAAAAAAAAAAAAAAAAAAAAAAAAAAAAAAAAAAAAAAAAAAAAAAAAAAAAAAAAAAAAAAAAAAAAAAAAAAAAAQEBAQEBAQEBAQEBAQEBAQEBAQEBAQEBAQEBAQEBAQEBAQEBAQEBAQEBAQEBAQEBAQEBAQEBAQEBAQEBAQEBAQEBAQEBAQEBAgICAgICAgICAgICAgICAgICAgICAgICAgICAgICAgICAgICAgICAgICAgICAgICAgICAgICAgICAgICAgICAgICAgICAgICAwMDAwMDAwMDAwMDAwMDAwMDAwMDAwMDAwMDAwMDAwMDAwMDAwMDAwMDAwMDAwMDAwMDAwMDAwMDAwMDAwMDAwMDAwMDAwMDBAQEBAQEBAQEBAQEBAQEBAQEBAQEBAQEBAQEBAQEBAQEBAQEBAQEBAQEBAQEBAQEBAQEBAQEBAQEBAQEBAQEBAQEBAQEBAQE",
          "dtype": "i1",
          "shape": "5, 72"
         },
         "z": {
          "bdata": "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",
          "dtype": "f8",
          "shape": "5, 72"
         }
        }
       ],
       "layout": {
        "height": 700,
        "scene": {
         "camera": {
          "eye": {
           "x": 1.5,
           "y": 1.5,
           "z": 1.3
          }
         },
         "xaxis": {
          "title": {
           "text": "Historical Time Step"
          }
         },
         "yaxis": {
          "title": {
           "text": "Flow Stage"
          }
         },
         "zaxis": {
          "title": {
           "text": "Feature Importance"
          }
         }
        },
        "template": {
         "data": {
          "bar": [
           {
            "error_x": {
             "color": "#2a3f5f"
            },
            "error_y": {
             "color": "#2a3f5f"
            },
            "marker": {
             "line": {
              "color": "#E5ECF6",
              "width": 0.5
             },
             "pattern": {
              "fillmode": "overlay",
              "size": 10,
              "solidity": 0.2
             }
            },
            "type": "bar"
           }
          ],
          "barpolar": [
           {
            "marker": {
             "line": {
              "color": "#E5ECF6",
              "width": 0.5
             },
             "pattern": {
              "fillmode": "overlay",
              "size": 10,
              "solidity": 0.2
             }
            },
            "type": "barpolar"
           }
          ],
          "carpet": [
           {
            "aaxis": {
             "endlinecolor": "#2a3f5f",
             "gridcolor": "white",
             "linecolor": "white",
             "minorgridcolor": "white",
             "startlinecolor": "#2a3f5f"
            },
            "baxis": {
             "endlinecolor": "#2a3f5f",
             "gridcolor": "white",
             "linecolor": "white",
             "minorgridcolor": "white",
             "startlinecolor": "#2a3f5f"
            },
            "type": "carpet"
           }
          ],
          "choropleth": [
           {
            "colorbar": {
             "outlinewidth": 0,
             "ticks": ""
            },
            "type": "choropleth"
           }
          ],
          "contour": [
           {
            "colorbar": {
             "outlinewidth": 0,
             "ticks": ""
            },
            "colorscale": [
             [
              0,
              "#0d0887"
             ],
             [
              0.1111111111111111,
              "#46039f"
             ],
             [
              0.2222222222222222,
              "#7201a8"
             ],
             [
              0.3333333333333333,
              "#9c179e"
             ],
             [
              0.4444444444444444,
              "#bd3786"
             ],
             [
              0.5555555555555556,
              "#d8576b"
             ],
             [
              0.6666666666666666,
              "#ed7953"
             ],
             [
              0.7777777777777778,
              "#fb9f3a"
             ],
             [
              0.8888888888888888,
              "#fdca26"
             ],
             [
              1,
              "#f0f921"
             ]
            ],
            "type": "contour"
           }
          ],
          "contourcarpet": [
           {
            "colorbar": {
             "outlinewidth": 0,
             "ticks": ""
            },
            "type": "contourcarpet"
           }
          ],
          "heatmap": [
           {
            "colorbar": {
             "outlinewidth": 0,
             "ticks": ""
            },
            "colorscale": [
             [
              0,
              "#0d0887"
             ],
             [
              0.1111111111111111,
              "#46039f"
             ],
             [
              0.2222222222222222,
              "#7201a8"
             ],
             [
              0.3333333333333333,
              "#9c179e"
             ],
             [
              0.4444444444444444,
              "#bd3786"
             ],
             [
              0.5555555555555556,
              "#d8576b"
             ],
             [
              0.6666666666666666,
              "#ed7953"
             ],
             [
              0.7777777777777778,
              "#fb9f3a"
             ],
             [
              0.8888888888888888,
              "#fdca26"
             ],
             [
              1,
              "#f0f921"
             ]
            ],
            "type": "heatmap"
           }
          ],
          "histogram": [
           {
            "marker": {
             "pattern": {
              "fillmode": "overlay",
              "size": 10,
              "solidity": 0.2
             }
            },
            "type": "histogram"
           }
          ],
          "histogram2d": [
           {
            "colorbar": {
             "outlinewidth": 0,
             "ticks": ""
            },
            "colorscale": [
             [
              0,
              "#0d0887"
             ],
             [
              0.1111111111111111,
              "#46039f"
             ],
             [
              0.2222222222222222,
              "#7201a8"
             ],
             [
              0.3333333333333333,
              "#9c179e"
             ],
             [
              0.4444444444444444,
              "#bd3786"
             ],
             [
              0.5555555555555556,
              "#d8576b"
             ],
             [
              0.6666666666666666,
              "#ed7953"
             ],
             [
              0.7777777777777778,
              "#fb9f3a"
             ],
             [
              0.8888888888888888,
              "#fdca26"
             ],
             [
              1,
              "#f0f921"
             ]
            ],
            "type": "histogram2d"
           }
          ],
          "histogram2dcontour": [
           {
            "colorbar": {
             "outlinewidth": 0,
             "ticks": ""
            },
            "colorscale": [
             [
              0,
              "#0d0887"
             ],
             [
              0.1111111111111111,
              "#46039f"
             ],
             [
              0.2222222222222222,
              "#7201a8"
             ],
             [
              0.3333333333333333,
              "#9c179e"
             ],
             [
              0.4444444444444444,
              "#bd3786"
             ],
             [
              0.5555555555555556,
              "#d8576b"
             ],
             [
              0.6666666666666666,
              "#ed7953"
             ],
             [
              0.7777777777777778,
              "#fb9f3a"
             ],
             [
              0.8888888888888888,
              "#fdca26"
             ],
             [
              1,
              "#f0f921"
             ]
            ],
            "type": "histogram2dcontour"
           }
          ],
          "mesh3d": [
           {
            "colorbar": {
             "outlinewidth": 0,
             "ticks": ""
            },
            "type": "mesh3d"
           }
          ],
          "parcoords": [
           {
            "line": {
             "colorbar": {
              "outlinewidth": 0,
              "ticks": ""
             }
            },
            "type": "parcoords"
           }
          ],
          "pie": [
           {
            "automargin": true,
            "type": "pie"
           }
          ],
          "scatter": [
           {
            "fillpattern": {
             "fillmode": "overlay",
             "size": 10,
             "solidity": 0.2
            },
            "type": "scatter"
           }
          ],
          "scatter3d": [
           {
            "line": {
             "colorbar": {
              "outlinewidth": 0,
              "ticks": ""
             }
            },
            "marker": {
             "colorbar": {
              "outlinewidth": 0,
              "ticks": ""
             }
            },
            "type": "scatter3d"
           }
          ],
          "scattercarpet": [
           {
            "marker": {
             "colorbar": {
              "outlinewidth": 0,
              "ticks": ""
             }
            },
            "type": "scattercarpet"
           }
          ],
          "scattergeo": [
           {
            "marker": {
             "colorbar": {
              "outlinewidth": 0,
              "ticks": ""
             }
            },
            "type": "scattergeo"
           }
          ],
          "scattergl": [
           {
            "marker": {
             "colorbar": {
              "outlinewidth": 0,
              "ticks": ""
             }
            },
            "type": "scattergl"
           }
          ],
          "scattermap": [
           {
            "marker": {
             "colorbar": {
              "outlinewidth": 0,
              "ticks": ""
             }
            },
            "type": "scattermap"
           }
          ],
          "scattermapbox": [
           {
            "marker": {
             "colorbar": {
              "outlinewidth": 0,
              "ticks": ""
             }
            },
            "type": "scattermapbox"
           }
          ],
          "scatterpolar": [
           {
            "marker": {
             "colorbar": {
              "outlinewidth": 0,
              "ticks": ""
             }
            },
            "type": "scatterpolar"
           }
          ],
          "scatterpolargl": [
           {
            "marker": {
             "colorbar": {
              "outlinewidth": 0,
              "ticks": ""
             }
            },
            "type": "scatterpolargl"
           }
          ],
          "scatterternary": [
           {
            "marker": {
             "colorbar": {
              "outlinewidth": 0,
              "ticks": ""
             }
            },
            "type": "scatterternary"
           }
          ],
          "surface": [
           {
            "colorbar": {
             "outlinewidth": 0,
             "ticks": ""
            },
            "colorscale": [
             [
              0,
              "#0d0887"
             ],
             [
              0.1111111111111111,
              "#46039f"
             ],
             [
              0.2222222222222222,
              "#7201a8"
             ],
             [
              0.3333333333333333,
              "#9c179e"
             ],
             [
              0.4444444444444444,
              "#bd3786"
             ],
             [
              0.5555555555555556,
              "#d8576b"
             ],
             [
              0.6666666666666666,
              "#ed7953"
             ],
             [
              0.7777777777777778,
              "#fb9f3a"
             ],
             [
              0.8888888888888888,
              "#fdca26"
             ],
             [
              1,
              "#f0f921"
             ]
            ],
            "type": "surface"
           }
          ],
          "table": [
           {
            "cells": {
             "fill": {
              "color": "#EBF0F8"
             },
             "line": {
              "color": "white"
             }
            },
            "header": {
             "fill": {
              "color": "#C8D4E3"
             },
             "line": {
              "color": "white"
             }
            },
            "type": "table"
           }
          ]
         },
         "layout": {
          "annotationdefaults": {
           "arrowcolor": "#2a3f5f",
           "arrowhead": 0,
           "arrowwidth": 1
          },
          "autotypenumbers": "strict",
          "coloraxis": {
           "colorbar": {
            "outlinewidth": 0,
            "ticks": ""
           }
          },
          "colorscale": {
           "diverging": [
            [
             0,
             "#8e0152"
            ],
            [
             0.1,
             "#c51b7d"
            ],
            [
             0.2,
             "#de77ae"
            ],
            [
             0.3,
             "#f1b6da"
            ],
            [
             0.4,
             "#fde0ef"
            ],
            [
             0.5,
             "#f7f7f7"
            ],
            [
             0.6,
             "#e6f5d0"
            ],
            [
             0.7,
             "#b8e186"
            ],
            [
             0.8,
             "#7fbc41"
            ],
            [
             0.9,
             "#4d9221"
            ],
            [
             1,
             "#276419"
            ]
           ],
           "sequential": [
            [
             0,
             "#0d0887"
            ],
            [
             0.1111111111111111,
             "#46039f"
            ],
            [
             0.2222222222222222,
             "#7201a8"
            ],
            [
             0.3333333333333333,
             "#9c179e"
            ],
            [
             0.4444444444444444,
             "#bd3786"
            ],
            [
             0.5555555555555556,
             "#d8576b"
            ],
            [
             0.6666666666666666,
             "#ed7953"
            ],
            [
             0.7777777777777778,
             "#fb9f3a"
            ],
            [
             0.8888888888888888,
             "#fdca26"
            ],
            [
             1,
             "#f0f921"
            ]
           ],
           "sequentialminus": [
            [
             0,
             "#0d0887"
            ],
            [
             0.1111111111111111,
             "#46039f"
            ],
            [
             0.2222222222222222,
             "#7201a8"
            ],
            [
             0.3333333333333333,
             "#9c179e"
            ],
            [
             0.4444444444444444,
             "#bd3786"
            ],
            [
             0.5555555555555556,
             "#d8576b"
            ],
            [
             0.6666666666666666,
             "#ed7953"
            ],
            [
             0.7777777777777778,
             "#fb9f3a"
            ],
            [
             0.8888888888888888,
             "#fdca26"
            ],
            [
             1,
             "#f0f921"
            ]
           ]
          },
          "colorway": [
           "#636efa",
           "#EF553B",
           "#00cc96",
           "#ab63fa",
           "#FFA15A",
           "#19d3f3",
           "#FF6692",
           "#B6E880",
           "#FF97FF",
           "#FECB52"
          ],
          "font": {
           "color": "#2a3f5f"
          },
          "geo": {
           "bgcolor": "white",
           "lakecolor": "white",
           "landcolor": "#E5ECF6",
           "showlakes": true,
           "showland": true,
           "subunitcolor": "white"
          },
          "hoverlabel": {
           "align": "left"
          },
          "hovermode": "closest",
          "mapbox": {
           "style": "light"
          },
          "paper_bgcolor": "white",
          "plot_bgcolor": "#E5ECF6",
          "polar": {
           "angularaxis": {
            "gridcolor": "white",
            "linecolor": "white",
            "ticks": ""
           },
           "bgcolor": "#E5ECF6",
           "radialaxis": {
            "gridcolor": "white",
            "linecolor": "white",
            "ticks": ""
           }
          },
          "scene": {
           "xaxis": {
            "backgroundcolor": "#E5ECF6",
            "gridcolor": "white",
            "gridwidth": 2,
            "linecolor": "white",
            "showbackground": true,
            "ticks": "",
            "zerolinecolor": "white"
           },
           "yaxis": {
            "backgroundcolor": "#E5ECF6",
            "gridcolor": "white",
            "gridwidth": 2,
            "linecolor": "white",
            "showbackground": true,
            "ticks": "",
            "zerolinecolor": "white"
           },
           "zaxis": {
            "backgroundcolor": "#E5ECF6",
            "gridcolor": "white",
            "gridwidth": 2,
            "linecolor": "white",
            "showbackground": true,
            "ticks": "",
            "zerolinecolor": "white"
           }
          },
          "shapedefaults": {
           "line": {
            "color": "#2a3f5f"
           }
          },
          "ternary": {
           "aaxis": {
            "gridcolor": "white",
            "linecolor": "white",
            "ticks": ""
           },
           "baxis": {
            "gridcolor": "white",
            "linecolor": "white",
            "ticks": ""
           },
           "bgcolor": "#E5ECF6",
           "caxis": {
            "gridcolor": "white",
            "linecolor": "white",
            "ticks": ""
           }
          },
          "title": {
           "x": 0.05
          },
          "xaxis": {
           "automargin": true,
           "gridcolor": "white",
           "linecolor": "white",
           "ticks": "",
           "title": {
            "standoff": 15
           },
           "zerolinecolor": "white",
           "zerolinewidth": 2
          },
          "yaxis": {
           "automargin": true,
           "gridcolor": "white",
           "linecolor": "white",
           "ticks": "",
           "title": {
            "standoff": 15
           },
           "zerolinecolor": "white",
           "zerolinewidth": 2
          }
         }
        },
        "title": {
         "text": "3D Feature Importance Surface: Time Steps × Flow Stages"
        },
        "width": 900
       }
      }
     },
     "metadata": {},
     "output_type": "display_data"
    }
   ],
   "source": [
    "def create_3d_importance_surface(stage_importance, seq_len):\n",
    "    \"\"\"\n",
    "    Create 3D surface plot showing importance across time steps and flow stages.\n",
    "    \"\"\"\n",
    "    n_stages = len(stage_importance)\n",
    "    \n",
    "    # Prepare data for 3D surface\n",
    "    Z = np.zeros((n_stages, seq_len))\n",
    "    for stage_idx in range(n_stages):\n",
    "        importance = stage_importance[stage_idx]['x']\n",
    "        if len(importance.shape) > 1:\n",
    "            importance = importance.mean(axis=0)  # Average across batch\n",
    "        Z[stage_idx, :] = importance[:seq_len]\n",
    "    \n",
    "    # Create meshgrid\n",
    "    time_steps = np.arange(seq_len)\n",
    "    flow_stages = np.arange(n_stages)\n",
    "    X, Y = np.meshgrid(time_steps, flow_stages)\n",
    "    \n",
    "    # Create 3D surface plot\n",
    "    fig = go.Figure(data=[go.Surface(\n",
    "        x=X,\n",
    "        y=Y,\n",
    "        z=Z,\n",
    "        colorscale='Viridis',\n",
    "        showscale=True,\n",
    "        colorbar=dict(title=\"Feature Importance\")\n",
    "    )])\n",
    "    \n",
    "    fig.update_layout(\n",
    "        title='3D Feature Importance Surface: Time Steps × Flow Stages',\n",
    "        scene=dict(\n",
    "            xaxis_title='Historical Time Step',\n",
    "            yaxis_title='Flow Stage',\n",
    "            zaxis_title='Feature Importance',\n",
    "            camera=dict(\n",
    "                eye=dict(x=1.5, y=1.5, z=1.3)\n",
    "            )\n",
    "        ),\n",
    "        width=900,\n",
    "        height=700\n",
    "    )\n",
    "    \n",
    "    return fig\n",
    "\n",
    "# Example usage (with dummy data for demonstration)\n",
    "dummy_stage_importance = {\n",
    "    i: {'x': np.random.exponential(scale=0.5, size=(72,)) * np.exp(-np.arange(72) * 0.02)}\n",
    "    for i in range(5)\n",
    "}\n",
    "\n",
    "fig_3d = create_3d_importance_surface(dummy_stage_importance, 72)\n",
    "fig_3d.show()"
   ]
  },
  {
   "cell_type": "code",
   "execution_count": 8,
   "metadata": {},
   "outputs": [
    {
     "name": "stdout",
     "output_type": "stream",
     "text": [
      "Collecting nbformat\n",
      "  Using cached nbformat-5.10.4-py3-none-any.whl.metadata (3.6 kB)\n",
      "Collecting fastjsonschema>=2.15 (from nbformat)\n",
      "  Using cached fastjsonschema-2.21.1-py3-none-any.whl.metadata (2.2 kB)\n",
      "Collecting jsonschema>=2.6 (from nbformat)\n",
      "  Using cached jsonschema-4.25.0-py3-none-any.whl.metadata (7.7 kB)\n",
      "Requirement already satisfied: jupyter-core!=5.0.*,>=4.12 in /home/yl2428/miniconda/envs/cDIME/lib/python3.9/site-packages (from nbformat) (5.8.1)\n",
      "Requirement already satisfied: traitlets>=5.1 in /home/yl2428/miniconda/envs/cDIME/lib/python3.9/site-packages (from nbformat) (5.14.3)\n",
      "Requirement already satisfied: attrs>=22.2.0 in /home/yl2428/miniconda/envs/cDIME/lib/python3.9/site-packages (from jsonschema>=2.6->nbformat) (25.3.0)\n",
      "Collecting jsonschema-specifications>=2023.03.6 (from jsonschema>=2.6->nbformat)\n",
      "  Using cached jsonschema_specifications-2025.4.1-py3-none-any.whl.metadata (2.9 kB)\n",
      "Collecting referencing>=0.28.4 (from jsonschema>=2.6->nbformat)\n",
      "  Using cached referencing-0.36.2-py3-none-any.whl.metadata (2.8 kB)\n",
      "Collecting rpds-py>=0.7.1 (from jsonschema>=2.6->nbformat)\n",
      "  Downloading rpds_py-0.27.0-cp39-cp39-manylinux_2_17_x86_64.manylinux2014_x86_64.whl.metadata (4.2 kB)\n",
      "Requirement already satisfied: platformdirs>=2.5 in /home/yl2428/miniconda/envs/cDIME/lib/python3.9/site-packages (from jupyter-core!=5.0.*,>=4.12->nbformat) (4.3.8)\n",
      "Requirement already satisfied: typing-extensions>=4.4.0 in /home/yl2428/miniconda/envs/cDIME/lib/python3.9/site-packages (from referencing>=0.28.4->jsonschema>=2.6->nbformat) (4.12.2)\n",
      "Using cached nbformat-5.10.4-py3-none-any.whl (78 kB)\n",
      "Using cached fastjsonschema-2.21.1-py3-none-any.whl (23 kB)\n",
      "Using cached jsonschema-4.25.0-py3-none-any.whl (89 kB)\n",
      "Using cached jsonschema_specifications-2025.4.1-py3-none-any.whl (18 kB)\n",
      "Using cached referencing-0.36.2-py3-none-any.whl (26 kB)\n",
      "Downloading rpds_py-0.27.0-cp39-cp39-manylinux_2_17_x86_64.manylinux2014_x86_64.whl (383 kB)\n",
      "Installing collected packages: fastjsonschema, rpds-py, referencing, jsonschema-specifications, jsonschema, nbformat\n",
      "\u001b[2K   \u001b[90m━━━━━━━━━━━━━━━━━━━━━━━━━━━━━━━━━━━━━━━━\u001b[0m \u001b[32m6/6\u001b[0m [nbformat]\n",
      "\u001b[1A\u001b[2KSuccessfully installed fastjsonschema-2.21.1 jsonschema-4.25.0 jsonschema-specifications-2025.4.1 nbformat-5.10.4 referencing-0.36.2 rpds-py-0.27.0\n"
     ]
    }
   ],
   "source": [
    "!pip install nbformat"
   ]
  },
  {
   "cell_type": "markdown",
   "metadata": {},
   "source": [
    "## 4. Interactive Heatmap with Plotly"
   ]
  },
  {
   "cell_type": "markdown",
   "metadata": {},
   "source": [
    "## 7. Cross‑Modality Feature Importance Across Stages\n",
    "\n",
    "This section computes per‑modality (channel) importance across flow stages by aggregating absolute importance over time (and batch if present). It supports inputs where stage importance for `x` is shaped as:\n",
    "- [seq_len] (falls back to a single “time” modality), or\n",
    "- [seq_len, channels], or\n",
    "- [batch, seq_len, channels] / [batch, channels, seq_len].\n",
    "\n",
    "We then visualize a Stage × Modality heatmap.\n"
   ]
  },
  {
   "cell_type": "code",
   "execution_count": 8,
   "metadata": {},
   "outputs": [
    {
     "data": {
      "application/vnd.plotly.v1+json": {
       "config": {
        "plotlyServerURL": "https://plot.ly"
       },
       "data": [
        {
         "colorbar": {
          "title": {
           "text": "Importance"
          }
         },
         "colorscale": [
          [
           0,
           "rgb(49,54,149)"
          ],
          [
           0.1,
           "rgb(69,117,180)"
          ],
          [
           0.2,
           "rgb(116,173,209)"
          ],
          [
           0.3,
           "rgb(171,217,233)"
          ],
          [
           0.4,
           "rgb(224,243,248)"
          ],
          [
           0.5,
           "rgb(255,255,191)"
          ],
          [
           0.6,
           "rgb(254,224,144)"
          ],
          [
           0.7,
           "rgb(253,174,97)"
          ],
          [
           0.8,
           "rgb(244,109,67)"
          ],
          [
           0.9,
           "rgb(215,48,39)"
          ],
          [
           1,
           "rgb(165,0,38)"
          ]
         ],
         "hovertemplate": "Feature: %{x}<br>Stage: %{y}<br>Importance: %{z:.4f}<extra></extra>",
         "type": "heatmap",
         "x": [
          "T-72",
          "T-71",
          "T-70",
          "T-69",
          "T-68",
          "T-67",
          "T-66",
          "T-65",
          "T-64",
          "T-63",
          "T-62",
          "T-61",
          "T-60",
          "T-59",
          "T-58",
          "T-57",
          "T-56",
          "T-55",
          "T-54",
          "T-53",
          "T-52",
          "T-51",
          "T-50",
          "T-49",
          "T-48",
          "T-47",
          "T-46",
          "T-45",
          "T-44",
          "T-43",
          "T-42",
          "T-41",
          "T-40",
          "T-39",
          "T-38",
          "T-37",
          "T-36",
          "T-35",
          "T-34",
          "T-33",
          "T-32",
          "T-31",
          "T-30",
          "T-29",
          "T-28",
          "T-27",
          "T-26",
          "T-25",
          "T-24",
          "T-23",
          "T-22",
          "T-21",
          "T-20",
          "T-19",
          "T-18",
          "T-17",
          "T-16",
          "T-15",
          "T-14",
          "T-13",
          "T-12",
          "T-11",
          "T-10",
          "T-9",
          "T-8",
          "T-7",
          "T-6",
          "T-5",
          "T-4",
          "T-3",
          "T-2",
          "T-1"
         ],
         "y": [
          "Stage 1",
          "Stage 2",
          "Stage 3",
          "Stage 4",
          "Stage 5"
         ],
         "z": {
          "bdata": "Nb5fSOo71z+7zU3lkd/nP+8CZTlU/tI/DimP29I5yT+FdTxkF7S/P4gVuq3FRNc/FBrWvl1l0T/kjgIZJCfqP6Nng4ARv/s/SneZI2Yb2D+9xu2dje7EP0GMvy/YYus/kwb7qkvbuj+/UzTeRnG/P37NiGSPnLA/kEk3xZXa4z9Y28Q2SkbeP/gF4fuXdOI/6HQeI3cwxD9oHr3zQKm6P1D89qQRAbo/VrzO9oeirD8CxEqgWb+pP+7LBFC2dq0/ovJ0clVY0z/WIPBGMg7gPy0QHwRvANk/ImQEtQjHtD8Gjy78bbK5P3QhAPUhG6A/GTgaa+H8jz/w+JbnA1rYPyxqVC3cM4U/FqWqSHG13z/GWArzxm+XP2Qw0r5K+sE/VcyGlUN0lD8MUwm8ojrMPzs3+gzED0E/HdJjlvWdQD+JwVYKKmzVP9pt52rF+70/SRronrqT6T95lChyIj3GPyGgmKJdFas/Oyvl9Kuy3T+rPQX0i5elP1fq/JNX52c/6JMqHRPKWD8jYPRpahGMP/EXWQ8jiNE/NN7PgYey0j+eht5cDYG7P424NlNYnH8/wwqY0gFkgj82rjeGkpR5P1amokEeWN0/5HGw7lwRnT/tWg0eLvTSPzimHeCWRIs/NJ48yV49sj8ZBZyoYXrQP5betYS0hbE/7Vhe9AW4tj/GpYoxq6/cP2khiUIJrKE/urqxQ/vAtz+k0Yy3y8rPP4DEc+x4JrY/viuT93ZOsT85xnt9nIC0P0iZ/VsiT5A/MYS72s6/wT/36475m3fAP9YKBAjvVNk/qZpKVfxWzz9QEgCs5OHwP+dWBMC8e84/3vBR1uN83T+v2Y5ulI3rPyflTX8cetc/z05s2Cd04D9LPOg+XsjTP4Ik8qwMb7c/sBMju/ZWvT+Lcb9FTo+WPzpnrvJObaE/xiK0yIum3T9ns8c2xzTaP4xAF0JkXKY/WwbPPvomyT+BxbbEEZ3FP76yNmnFKOY/7zM2wrsn1z9dqrCeO/jMP9qps9HmvBI/QNceGv1W0z/CDxjQe96TP35WYUBlStU/+O5UCA4YsT/piuY7gaG+P9nKSuxgheI/Y5SXM5ypxD+odemXUECgP2Xe9ZhJxZM/uBX5yNfH6z9FWqfeAOvIP8DmkN4S/cU/V1sjsne9yj9Zwv86a07SP0CfBpZLktQ/PbrCUL3Zoj/BHeW2W3rBPxPrOFxwQsk/taV9vTMvyj87YCHRq4rVP9i3txmYqbs/L8NsY+88vj/WWWijBCvPP6+ryI7JmMk/YgX0+QgPlj8w0nNhcX+/P5C1ZmNcg8A/B15meZGepD9ZVPlU9GaeP5Ox4NN158U/MpXQX6wQ2T/rZ+bvXOTPP2KRAsW6kOA/cfciRd9ayT/5otKxcbzXP3EfW2HmELw/csW64ys75T+oCjCUYc3OP5ZUQdG17Yo/DMmlEfk42j9nyBjT1WzhP/U5GZ5iucA/TPMOuMjCdj/QavCOmVGqP16l0pcyIMs/MqvI+en8pT/L1OPLJjDBP7hZ3miKPok/iJ29UHqh4D/fMUBssEPxP0B+ubEp5us/FD7I4CIS4T/r0DXIQHDNP6gbpR+2BtU/F4L1EdaX8j/QFuUxwi/xP3JOby3u9ZE/51cwKAHQwD8zbOWon0DuP0DInZoUGMw/gb0iPwzZpj9fdeDXqG5KP7pSwKti4Nk//U2vAM0Exz+tld0CKBqtP0OAHEUW/+I/fdNjk9Oy9T8eryEUjhbjP0clbtAp/84/eYj8M4mx+z/SfJ4cbVnCPw3zmxlnwNY/hbn62bgy6T9geIon5sDxP2qj7uJkEvI/Jzf5HC0hjT8OfE9DCw7XP9idtEp7s90/Nba9i0zZ4T+MU+mUUSaXP5Ul1/yEZIY/8B1izE7Dvz9lZexELVSWPyviCgPlKN4/Wn6OuXkTpj+o/vEKGhvbP9iWGJHQWM4//S0gkDsdxz+vmhO6XxbIPx2KWxzlZqE/1mYQAmmwkT9Zt36i3K3SPz+MBJzfec8/0TMhWLS3oz8qy/54E3+0PyXEZMfZv+Q/IOo2FPm37T+zh25KEeKlP2nA7TkLw7E/mQv4MWar0D81vfRWi8OzP+75o6COutI/1uBuk3+6pz9bRk72b0yxP4kXJoatzXI/mKqPlUelsT/40BKKTYORP0Ka0/KxCN4/0RihCOOxzD8ZTcMY4Tu3P6DkhzRt7bg/wDUr4G9Epz/RLR/lManEP1Mb8pPiLJc/quGBL8Sxxj8DwREC66atP2R+ez+TcZ8/bKPa4+fruD/KBQdEVWWkPzMUqnd41dA/LfR/E4H0pj9Kxv1XHzfXP8m0k/QMpdg/fsMVLtyLxj/HPXBZbUnwP3Oj0QdWmfQ/IcOC6gPprD9M3CeiembcP7hKFnffi+M/i1POGVKstT+Wl+5cmkjlP6Mf6v1rxL8/yVdzVp8Ckj8uHANCMUKxPwcV+OIJQNc/67qpFUxa0j+CDQTU3kDYP72NFodLO3I/RW01LdqgwT9Zr30MWmraP/y0J6C2k+g/7+kLiDR5oT9s2IC52+jsPyr0ucTzYLY/ZrOy9snv0j9LXZRjUfTQP0vu3C6uvbE/a+552O1qsz9U5krwL6bRP/bUx+LPcdI/ynNTDpqe5D/C12aRYoTJPwDppLjuUNM/uKFlU3Z5uD/b4M4UY/6RP8SgJyinPKQ/nMyQIXZAfz8fK1+UrmWxP8xuiprwDcE/yrKAKGPVwT+Hj9ab47LJP+TI1XQY+tY/UQ1KHWwYyj/wZOTsajGQP12McqJ9WM4/SJNAHPen4j8579ToGBSrPxjpVvXXRrQ/UbWplKPf0T8adYdVoXCwPxI/PZZ4q9E/vfeRJp3J0D/8y7rW3ffVP5Ab3r92aaA/Lq3HVJdMsD/niTTOxY64PxIJm1s1Naw/YHd/7/mHxT/X70US5by+P5G77y+hYKw/nzkhOv8szz+u+3nKwEXLPxDP/q0vO8A/j7vyxkIehT/+1x++QI2lP+l0JSp0+54/DKd2qjnPpD/gN2FdJgrVP8CKcehDBbk/AbCxgYaucj+GsgXW97e1P/2T/Eq2jLQ/p4CsGW24zz8GjLX/dDkAQG00ScPlpf8/Wt8Sns3o8D9kiO1gRkfKP4yOIsd99ps/SV0+Hb1b1T9eaIbPRLvDP26HvZzRg8Q/NF2tnzIywT8iOLUIpv3FPwVOIdzCTNU/wRmKfwXf2j+VGgd5j2fFP997tESt1ps/LNw7dQhruz/tXLnPAijSP3kQorW33vY/EACIlt5H1T+4XddubNi5P5Eqp1EmMNw/+7vY/7o20z9HJpHEnhXXP0PvaSGdg8g/FGV6r5tSsD+Tvpnn4YrQP77O0p1tW8c/eGem6qaAwD/Z/BedYjG1P8sMc0D1jsw/jVlgTbM51j99KKEZRybBP3K7P3Wuft0/bEWWVV9UxT9k4YvhmoLOP+QX6qKoHtM/zRgjCfTX3z/9dQRVgIGrP+toZVG+hbM/kLfOteJNdD9I7Gz0CQODP+4Qe1zMlsk/3tg08k6UtT9mTWRs9AG2P5gX/S4Nra0/ST0ZVNnsxT9GxNUEfimWPwNrshwdbMI/BPmXx5TYqj84PGPV5/auPzWtX888HdY/ggKNQIQG1T8cIieP8a+hP2V4955SYLs/ZUZYKT305D8vVlqlBZmBP6wEooANTdM/GbJZsT25dz/1O75kEJvKP7iGlDtnhY8/ruPSKlZ/xD/NBlP+dBO2P9BSlZ0qScs/qioITrDYsz+FkXDwynvLP3Udsib0Ys0/iofjFGWd1D/xegGxUY68P1k41Ssiiss/U395ksdJjj9vnye3drDDP0FRwzBHGJg/",
          "dtype": "f8",
          "shape": "5, 72"
         }
        }
       ],
       "layout": {
        "annotations": [
         {
          "font": {
           "size": 10
          },
          "showarrow": false,
          "text": "Initial Transport",
          "x": -0.1,
          "xanchor": "right",
          "xref": "paper",
          "y": 0,
          "yref": "y"
         },
         {
          "font": {
           "size": 10
          },
          "showarrow": false,
          "text": "Coarse Features",
          "x": -0.1,
          "xanchor": "right",
          "xref": "paper",
          "y": 1,
          "yref": "y"
         },
         {
          "font": {
           "size": 10
          },
          "showarrow": false,
          "text": "Mid Refinement",
          "x": -0.1,
          "xanchor": "right",
          "xref": "paper",
          "y": 2,
          "yref": "y"
         },
         {
          "font": {
           "size": 10
          },
          "showarrow": false,
          "text": "Fine Details",
          "x": -0.1,
          "xanchor": "right",
          "xref": "paper",
          "y": 3,
          "yref": "y"
         },
         {
          "font": {
           "size": 10
          },
          "showarrow": false,
          "text": "Final Approach",
          "x": -0.1,
          "xanchor": "right",
          "xref": "paper",
          "y": 4,
          "yref": "y"
         }
        ],
        "height": 500,
        "template": {
         "data": {
          "bar": [
           {
            "error_x": {
             "color": "#2a3f5f"
            },
            "error_y": {
             "color": "#2a3f5f"
            },
            "marker": {
             "line": {
              "color": "#E5ECF6",
              "width": 0.5
             },
             "pattern": {
              "fillmode": "overlay",
              "size": 10,
              "solidity": 0.2
             }
            },
            "type": "bar"
           }
          ],
          "barpolar": [
           {
            "marker": {
             "line": {
              "color": "#E5ECF6",
              "width": 0.5
             },
             "pattern": {
              "fillmode": "overlay",
              "size": 10,
              "solidity": 0.2
             }
            },
            "type": "barpolar"
           }
          ],
          "carpet": [
           {
            "aaxis": {
             "endlinecolor": "#2a3f5f",
             "gridcolor": "white",
             "linecolor": "white",
             "minorgridcolor": "white",
             "startlinecolor": "#2a3f5f"
            },
            "baxis": {
             "endlinecolor": "#2a3f5f",
             "gridcolor": "white",
             "linecolor": "white",
             "minorgridcolor": "white",
             "startlinecolor": "#2a3f5f"
            },
            "type": "carpet"
           }
          ],
          "choropleth": [
           {
            "colorbar": {
             "outlinewidth": 0,
             "ticks": ""
            },
            "type": "choropleth"
           }
          ],
          "contour": [
           {
            "colorbar": {
             "outlinewidth": 0,
             "ticks": ""
            },
            "colorscale": [
             [
              0,
              "#0d0887"
             ],
             [
              0.1111111111111111,
              "#46039f"
             ],
             [
              0.2222222222222222,
              "#7201a8"
             ],
             [
              0.3333333333333333,
              "#9c179e"
             ],
             [
              0.4444444444444444,
              "#bd3786"
             ],
             [
              0.5555555555555556,
              "#d8576b"
             ],
             [
              0.6666666666666666,
              "#ed7953"
             ],
             [
              0.7777777777777778,
              "#fb9f3a"
             ],
             [
              0.8888888888888888,
              "#fdca26"
             ],
             [
              1,
              "#f0f921"
             ]
            ],
            "type": "contour"
           }
          ],
          "contourcarpet": [
           {
            "colorbar": {
             "outlinewidth": 0,
             "ticks": ""
            },
            "type": "contourcarpet"
           }
          ],
          "heatmap": [
           {
            "colorbar": {
             "outlinewidth": 0,
             "ticks": ""
            },
            "colorscale": [
             [
              0,
              "#0d0887"
             ],
             [
              0.1111111111111111,
              "#46039f"
             ],
             [
              0.2222222222222222,
              "#7201a8"
             ],
             [
              0.3333333333333333,
              "#9c179e"
             ],
             [
              0.4444444444444444,
              "#bd3786"
             ],
             [
              0.5555555555555556,
              "#d8576b"
             ],
             [
              0.6666666666666666,
              "#ed7953"
             ],
             [
              0.7777777777777778,
              "#fb9f3a"
             ],
             [
              0.8888888888888888,
              "#fdca26"
             ],
             [
              1,
              "#f0f921"
             ]
            ],
            "type": "heatmap"
           }
          ],
          "histogram": [
           {
            "marker": {
             "pattern": {
              "fillmode": "overlay",
              "size": 10,
              "solidity": 0.2
             }
            },
            "type": "histogram"
           }
          ],
          "histogram2d": [
           {
            "colorbar": {
             "outlinewidth": 0,
             "ticks": ""
            },
            "colorscale": [
             [
              0,
              "#0d0887"
             ],
             [
              0.1111111111111111,
              "#46039f"
             ],
             [
              0.2222222222222222,
              "#7201a8"
             ],
             [
              0.3333333333333333,
              "#9c179e"
             ],
             [
              0.4444444444444444,
              "#bd3786"
             ],
             [
              0.5555555555555556,
              "#d8576b"
             ],
             [
              0.6666666666666666,
              "#ed7953"
             ],
             [
              0.7777777777777778,
              "#fb9f3a"
             ],
             [
              0.8888888888888888,
              "#fdca26"
             ],
             [
              1,
              "#f0f921"
             ]
            ],
            "type": "histogram2d"
           }
          ],
          "histogram2dcontour": [
           {
            "colorbar": {
             "outlinewidth": 0,
             "ticks": ""
            },
            "colorscale": [
             [
              0,
              "#0d0887"
             ],
             [
              0.1111111111111111,
              "#46039f"
             ],
             [
              0.2222222222222222,
              "#7201a8"
             ],
             [
              0.3333333333333333,
              "#9c179e"
             ],
             [
              0.4444444444444444,
              "#bd3786"
             ],
             [
              0.5555555555555556,
              "#d8576b"
             ],
             [
              0.6666666666666666,
              "#ed7953"
             ],
             [
              0.7777777777777778,
              "#fb9f3a"
             ],
             [
              0.8888888888888888,
              "#fdca26"
             ],
             [
              1,
              "#f0f921"
             ]
            ],
            "type": "histogram2dcontour"
           }
          ],
          "mesh3d": [
           {
            "colorbar": {
             "outlinewidth": 0,
             "ticks": ""
            },
            "type": "mesh3d"
           }
          ],
          "parcoords": [
           {
            "line": {
             "colorbar": {
              "outlinewidth": 0,
              "ticks": ""
             }
            },
            "type": "parcoords"
           }
          ],
          "pie": [
           {
            "automargin": true,
            "type": "pie"
           }
          ],
          "scatter": [
           {
            "fillpattern": {
             "fillmode": "overlay",
             "size": 10,
             "solidity": 0.2
            },
            "type": "scatter"
           }
          ],
          "scatter3d": [
           {
            "line": {
             "colorbar": {
              "outlinewidth": 0,
              "ticks": ""
             }
            },
            "marker": {
             "colorbar": {
              "outlinewidth": 0,
              "ticks": ""
             }
            },
            "type": "scatter3d"
           }
          ],
          "scattercarpet": [
           {
            "marker": {
             "colorbar": {
              "outlinewidth": 0,
              "ticks": ""
             }
            },
            "type": "scattercarpet"
           }
          ],
          "scattergeo": [
           {
            "marker": {
             "colorbar": {
              "outlinewidth": 0,
              "ticks": ""
             }
            },
            "type": "scattergeo"
           }
          ],
          "scattergl": [
           {
            "marker": {
             "colorbar": {
              "outlinewidth": 0,
              "ticks": ""
             }
            },
            "type": "scattergl"
           }
          ],
          "scattermap": [
           {
            "marker": {
             "colorbar": {
              "outlinewidth": 0,
              "ticks": ""
             }
            },
            "type": "scattermap"
           }
          ],
          "scattermapbox": [
           {
            "marker": {
             "colorbar": {
              "outlinewidth": 0,
              "ticks": ""
             }
            },
            "type": "scattermapbox"
           }
          ],
          "scatterpolar": [
           {
            "marker": {
             "colorbar": {
              "outlinewidth": 0,
              "ticks": ""
             }
            },
            "type": "scatterpolar"
           }
          ],
          "scatterpolargl": [
           {
            "marker": {
             "colorbar": {
              "outlinewidth": 0,
              "ticks": ""
             }
            },
            "type": "scatterpolargl"
           }
          ],
          "scatterternary": [
           {
            "marker": {
             "colorbar": {
              "outlinewidth": 0,
              "ticks": ""
             }
            },
            "type": "scatterternary"
           }
          ],
          "surface": [
           {
            "colorbar": {
             "outlinewidth": 0,
             "ticks": ""
            },
            "colorscale": [
             [
              0,
              "#0d0887"
             ],
             [
              0.1111111111111111,
              "#46039f"
             ],
             [
              0.2222222222222222,
              "#7201a8"
             ],
             [
              0.3333333333333333,
              "#9c179e"
             ],
             [
              0.4444444444444444,
              "#bd3786"
             ],
             [
              0.5555555555555556,
              "#d8576b"
             ],
             [
              0.6666666666666666,
              "#ed7953"
             ],
             [
              0.7777777777777778,
              "#fb9f3a"
             ],
             [
              0.8888888888888888,
              "#fdca26"
             ],
             [
              1,
              "#f0f921"
             ]
            ],
            "type": "surface"
           }
          ],
          "table": [
           {
            "cells": {
             "fill": {
              "color": "#EBF0F8"
             },
             "line": {
              "color": "white"
             }
            },
            "header": {
             "fill": {
              "color": "#C8D4E3"
             },
             "line": {
              "color": "white"
             }
            },
            "type": "table"
           }
          ]
         },
         "layout": {
          "annotationdefaults": {
           "arrowcolor": "#2a3f5f",
           "arrowhead": 0,
           "arrowwidth": 1
          },
          "autotypenumbers": "strict",
          "coloraxis": {
           "colorbar": {
            "outlinewidth": 0,
            "ticks": ""
           }
          },
          "colorscale": {
           "diverging": [
            [
             0,
             "#8e0152"
            ],
            [
             0.1,
             "#c51b7d"
            ],
            [
             0.2,
             "#de77ae"
            ],
            [
             0.3,
             "#f1b6da"
            ],
            [
             0.4,
             "#fde0ef"
            ],
            [
             0.5,
             "#f7f7f7"
            ],
            [
             0.6,
             "#e6f5d0"
            ],
            [
             0.7,
             "#b8e186"
            ],
            [
             0.8,
             "#7fbc41"
            ],
            [
             0.9,
             "#4d9221"
            ],
            [
             1,
             "#276419"
            ]
           ],
           "sequential": [
            [
             0,
             "#0d0887"
            ],
            [
             0.1111111111111111,
             "#46039f"
            ],
            [
             0.2222222222222222,
             "#7201a8"
            ],
            [
             0.3333333333333333,
             "#9c179e"
            ],
            [
             0.4444444444444444,
             "#bd3786"
            ],
            [
             0.5555555555555556,
             "#d8576b"
            ],
            [
             0.6666666666666666,
             "#ed7953"
            ],
            [
             0.7777777777777778,
             "#fb9f3a"
            ],
            [
             0.8888888888888888,
             "#fdca26"
            ],
            [
             1,
             "#f0f921"
            ]
           ],
           "sequentialminus": [
            [
             0,
             "#0d0887"
            ],
            [
             0.1111111111111111,
             "#46039f"
            ],
            [
             0.2222222222222222,
             "#7201a8"
            ],
            [
             0.3333333333333333,
             "#9c179e"
            ],
            [
             0.4444444444444444,
             "#bd3786"
            ],
            [
             0.5555555555555556,
             "#d8576b"
            ],
            [
             0.6666666666666666,
             "#ed7953"
            ],
            [
             0.7777777777777778,
             "#fb9f3a"
            ],
            [
             0.8888888888888888,
             "#fdca26"
            ],
            [
             1,
             "#f0f921"
            ]
           ]
          },
          "colorway": [
           "#636efa",
           "#EF553B",
           "#00cc96",
           "#ab63fa",
           "#FFA15A",
           "#19d3f3",
           "#FF6692",
           "#B6E880",
           "#FF97FF",
           "#FECB52"
          ],
          "font": {
           "color": "#2a3f5f"
          },
          "geo": {
           "bgcolor": "white",
           "lakecolor": "white",
           "landcolor": "#E5ECF6",
           "showlakes": true,
           "showland": true,
           "subunitcolor": "white"
          },
          "hoverlabel": {
           "align": "left"
          },
          "hovermode": "closest",
          "mapbox": {
           "style": "light"
          },
          "paper_bgcolor": "white",
          "plot_bgcolor": "#E5ECF6",
          "polar": {
           "angularaxis": {
            "gridcolor": "white",
            "linecolor": "white",
            "ticks": ""
           },
           "bgcolor": "#E5ECF6",
           "radialaxis": {
            "gridcolor": "white",
            "linecolor": "white",
            "ticks": ""
           }
          },
          "scene": {
           "xaxis": {
            "backgroundcolor": "#E5ECF6",
            "gridcolor": "white",
            "gridwidth": 2,
            "linecolor": "white",
            "showbackground": true,
            "ticks": "",
            "zerolinecolor": "white"
           },
           "yaxis": {
            "backgroundcolor": "#E5ECF6",
            "gridcolor": "white",
            "gridwidth": 2,
            "linecolor": "white",
            "showbackground": true,
            "ticks": "",
            "zerolinecolor": "white"
           },
           "zaxis": {
            "backgroundcolor": "#E5ECF6",
            "gridcolor": "white",
            "gridwidth": 2,
            "linecolor": "white",
            "showbackground": true,
            "ticks": "",
            "zerolinecolor": "white"
           }
          },
          "shapedefaults": {
           "line": {
            "color": "#2a3f5f"
           }
          },
          "ternary": {
           "aaxis": {
            "gridcolor": "white",
            "linecolor": "white",
            "ticks": ""
           },
           "baxis": {
            "gridcolor": "white",
            "linecolor": "white",
            "ticks": ""
           },
           "bgcolor": "#E5ECF6",
           "caxis": {
            "gridcolor": "white",
            "linecolor": "white",
            "ticks": ""
           }
          },
          "title": {
           "x": 0.05
          },
          "xaxis": {
           "automargin": true,
           "gridcolor": "white",
           "linecolor": "white",
           "ticks": "",
           "title": {
            "standoff": 15
           },
           "zerolinecolor": "white",
           "zerolinewidth": 2
          },
          "yaxis": {
           "automargin": true,
           "gridcolor": "white",
           "linecolor": "white",
           "ticks": "",
           "title": {
            "standoff": 15
           },
           "zerolinecolor": "white",
           "zerolinewidth": 2
          }
         }
        },
        "title": {
         "text": "Interactive Feature Importance Heatmap Across Flow Stages"
        },
        "width": 1200,
        "xaxis": {
         "tickangle": 45,
         "title": {
          "text": "Time Steps"
         }
        },
        "yaxis": {
         "title": {
          "text": "Flow Stages"
         }
        }
       }
      }
     },
     "metadata": {},
     "output_type": "display_data"
    }
   ],
   "source": [
    "def create_interactive_heatmap(stage_importance, feature_names=None):\n",
    "    \"\"\"\n",
    "    Create interactive heatmap showing importance evolution across stages.\n",
    "    \"\"\"\n",
    "    n_stages = len(stage_importance)\n",
    "    seq_len = len(stage_importance[0]['x'])\n",
    "    \n",
    "    if feature_names is None:\n",
    "        feature_names = [f'T-{seq_len-i}' for i in range(seq_len)]\n",
    "    \n",
    "    # Prepare heatmap data\n",
    "    heatmap_data = []\n",
    "    for stage_idx in range(n_stages):\n",
    "        importance = stage_importance[stage_idx]['x']\n",
    "        if len(importance.shape) > 1:\n",
    "            importance = importance.mean(axis=0)\n",
    "        heatmap_data.append(importance)\n",
    "    \n",
    "    heatmap_data = np.array(heatmap_data)\n",
    "    \n",
    "    # Create interactive heatmap\n",
    "    fig = go.Figure(data=go.Heatmap(\n",
    "        z=heatmap_data,\n",
    "        x=feature_names,\n",
    "        y=[f'Stage {i+1}' for i in range(n_stages)],\n",
    "        colorscale='RdYlBu_r',\n",
    "        hovertemplate='Feature: %{x}<br>Stage: %{y}<br>Importance: %{z:.4f}<extra></extra>',\n",
    "        colorbar=dict(title=\"Importance\")\n",
    "    ))\n",
    "    \n",
    "    fig.update_layout(\n",
    "        title='Interactive Feature Importance Heatmap Across Flow Stages',\n",
    "        xaxis_title='Time Steps',\n",
    "        yaxis_title='Flow Stages',\n",
    "        width=1200,\n",
    "        height=500,\n",
    "        xaxis=dict(tickangle=45)\n",
    "    )\n",
    "    \n",
    "    # Add annotations for stage descriptions\n",
    "    stage_descriptions = [\n",
    "        \"Initial Transport\",\n",
    "        \"Coarse Features\",\n",
    "        \"Mid Refinement\",\n",
    "        \"Fine Details\",\n",
    "        \"Final Approach\"\n",
    "    ]\n",
    "    \n",
    "    for i, desc in enumerate(stage_descriptions[:n_stages]):\n",
    "        fig.add_annotation(\n",
    "            x=-0.1,\n",
    "            y=i,\n",
    "            text=desc,\n",
    "            showarrow=False,\n",
    "            xref=\"paper\",\n",
    "            yref=\"y\",\n",
    "            font=dict(size=10),\n",
    "            xanchor=\"right\"\n",
    "        )\n",
    "    \n",
    "    return fig\n",
    "\n",
    "# Create interactive heatmap\n",
    "fig_heatmap = create_interactive_heatmap(dummy_stage_importance)\n",
    "fig_heatmap.show()"
   ]
  },
  {
   "cell_type": "markdown",
   "metadata": {},
   "source": [
    "## 5. Patient-Specific Importance Analysis"
   ]
  },
  {
   "cell_type": "code",
   "execution_count": 9,
   "metadata": {},
   "outputs": [
    {
     "name": "stdout",
     "output_type": "stream",
     "text": [
      "Patient-specific analyzer defined\n"
     ]
    }
   ],
   "source": [
    "class PatientSpecificAnalyzer:\n",
    "    \"\"\"\n",
    "    Analyze importance patterns for individual patients.\n",
    "    \"\"\"\n",
    "    \n",
    "    def __init__(self, analyzer, data_loader):\n",
    "        self.analyzer = analyzer\n",
    "        self.data_loader = data_loader\n",
    "        \n",
    "    def compute_patient_importance(self, patient_ids, stage_idx=0):\n",
    "        \"\"\"\n",
    "        Compute importance for specific patients at a given stage.\n",
    "        \"\"\"\n",
    "        patient_importance = {}\n",
    "        \n",
    "        for batch in self.data_loader:\n",
    "            batch_x, batch_y, batch_x_mark, batch_y_mark = batch\n",
    "            \n",
    "            # Assume patient IDs are in batch_y_mark or need to be extracted\n",
    "            # This is a template - adjust based on your data structure\n",
    "            \n",
    "            batch_x = batch_x.float().to(device)\n",
    "            covariates = batch_x_mark.float().to(device) if batch_x_mark is not None else None\n",
    "            \n",
    "            t = self.analyzer.stage_centers[stage_idx]\n",
    "            x_importance, cov_importance = self.analyzer.integrated_gradients(\n",
    "                batch_x, covariates, t\n",
    "            )\n",
    "            \n",
    "            # Store per-patient importance\n",
    "            for i in range(batch_x.shape[0]):\n",
    "                # Extract patient ID (placeholder - adjust based on your data)\n",
    "                patient_id = f\"patient_{i}\"\n",
    "                \n",
    "                if patient_id not in patient_importance:\n",
    "                    patient_importance[patient_id] = []\n",
    "                \n",
    "                patient_importance[patient_id].append({\n",
    "                    'x_importance': x_importance[i].cpu().numpy(),\n",
    "                    'cov_importance': cov_importance[i].cpu().numpy() if cov_importance is not None else None\n",
    "                })\n",
    "        \n",
    "        return patient_importance\n",
    "    \n",
    "    def cluster_patients_by_importance(self, patient_importance, n_clusters=3):\n",
    "        \"\"\"\n",
    "        Cluster patients based on their importance patterns.\n",
    "        \"\"\"\n",
    "        from sklearn.cluster import KMeans\n",
    "        \n",
    "        # Flatten importance vectors for clustering\n",
    "        importance_vectors = []\n",
    "        patient_ids = []\n",
    "        \n",
    "        for patient_id, importance_list in patient_importance.items():\n",
    "            # Average importance across samples for this patient\n",
    "            avg_importance = np.mean([imp['x_importance'] for imp in importance_list], axis=0)\n",
    "            importance_vectors.append(avg_importance.flatten())\n",
    "            patient_ids.append(patient_id)\n",
    "        \n",
    "        importance_vectors = np.array(importance_vectors)\n",
    "        \n",
    "        # Apply PCA for dimensionality reduction\n",
    "        pca = PCA(n_components=min(50, importance_vectors.shape[1]))\n",
    "        importance_pca = pca.fit_transform(importance_vectors)\n",
    "        \n",
    "        # Cluster patients\n",
    "        kmeans = KMeans(n_clusters=n_clusters, random_state=42)\n",
    "        clusters = kmeans.fit_predict(importance_pca)\n",
    "        \n",
    "        # Visualize clusters\n",
    "        tsne = TSNE(n_components=2, random_state=42)\n",
    "        importance_tsne = tsne.fit_transform(importance_pca)\n",
    "        \n",
    "        # Create scatter plot\n",
    "        fig = px.scatter(\n",
    "            x=importance_tsne[:, 0],\n",
    "            y=importance_tsne[:, 1],\n",
    "            color=clusters,\n",
    "            hover_data={'Patient': patient_ids},\n",
    "            title='Patient Clustering Based on Feature Importance Patterns',\n",
    "            labels={'x': 't-SNE 1', 'y': 't-SNE 2', 'color': 'Cluster'},\n",
    "            color_continuous_scale='Viridis'\n",
    "        )\n",
    "        \n",
    "        return clusters, fig\n",
    "\n",
    "print(\"Patient-specific analyzer defined\")"
   ]
  },
  {
   "cell_type": "markdown",
   "metadata": {},
   "source": [
    "## 6. Attention Weight Analysis for Transformer Models"
   ]
  },
  {
   "cell_type": "code",
   "execution_count": 10,
   "metadata": {},
   "outputs": [
    {
     "name": "stdout",
     "output_type": "stream",
     "text": [
      "Attention analysis function defined\n"
     ]
    }
   ],
   "source": [
    "def analyze_attention_patterns(model, data_loader, stage_idx=2):\n",
    "    \"\"\"\n",
    "    Extract and visualize attention patterns from transformer layers.\n",
    "    \"\"\"\n",
    "    attention_weights = []\n",
    "    \n",
    "    model.eval()\n",
    "    with torch.no_grad():\n",
    "        for batch_idx, batch in enumerate(data_loader):\n",
    "            if batch_idx > 5:  # Limit to a few batches for visualization\n",
    "                break\n",
    "            \n",
    "            batch_x, _, _, _ = batch\n",
    "            batch_x = batch_x.float().to(device)\n",
    "            \n",
    "            # Hook to extract attention weights\n",
    "            # This is model-specific - adjust based on your transformer implementation\n",
    "            if hasattr(model, 'encoder'):\n",
    "                # Example: Extract attention from encoder layers\n",
    "                # You'll need to implement hooks or modify your model to expose attention\n",
    "                pass\n",
    "    \n",
    "    # Create attention visualization\n",
    "    fig = make_subplots(\n",
    "        rows=2, cols=2,\n",
    "        subplot_titles=('Layer 1 Attention', 'Layer 2 Attention', \n",
    "                       'Layer 3 Attention', 'Average Attention'),\n",
    "        specs=[[{'type': 'heatmap'}, {'type': 'heatmap'}],\n",
    "               [{'type': 'heatmap'}, {'type': 'heatmap'}]]\n",
    "    )\n",
    "    \n",
    "    # Dummy attention data for demonstration\n",
    "    for i in range(4):\n",
    "        attention_matrix = np.random.random((72, 72))\n",
    "        attention_matrix = (attention_matrix + attention_matrix.T) / 2  # Make symmetric\n",
    "        \n",
    "        row = i // 2 + 1\n",
    "        col = i % 2 + 1\n",
    "        \n",
    "        fig.add_trace(\n",
    "            go.Heatmap(z=attention_matrix, colorscale='Blues', showscale=(i==3)),\n",
    "            row=row, col=col\n",
    "        )\n",
    "    \n",
    "    fig.update_layout(\n",
    "        title='Attention Weight Patterns Across Transformer Layers',\n",
    "        height=800,\n",
    "        width=1000\n",
    "    )\n",
    "    \n",
    "    return fig\n",
    "\n",
    "# Example visualization\n",
    "# fig_attention = analyze_attention_patterns(model, data_loader)\n",
    "# fig_attention.show()\n",
    "print(\"Attention analysis function defined\")"
   ]
  }
 ],
 "metadata": {
  "kernelspec": {
   "display_name": "cDIME",
   "language": "python",
   "name": "python3"
  },
  "language_info": {
   "codemirror_mode": {
    "name": "ipython",
    "version": 3
   },
   "file_extension": ".py",
   "mimetype": "text/x-python",
   "name": "python",
   "nbconvert_exporter": "python",
   "pygments_lexer": "ipython3",
   "version": "3.9.21"
  }
 },
 "nbformat": 4,
 "nbformat_minor": 4
}
